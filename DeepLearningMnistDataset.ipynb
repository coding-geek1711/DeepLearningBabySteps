{
  "nbformat": 4,
  "nbformat_minor": 0,
  "metadata": {
    "colab": {
      "name": "DeepLearningMnistDataset.ipynb",
      "provenance": [],
      "authorship_tag": "ABX9TyPihJan0RvPfHrSQ+iX1Xw1",
      "include_colab_link": true
    },
    "kernelspec": {
      "name": "python3",
      "display_name": "Python 3"
    }
  },
  "cells": [
    {
      "cell_type": "markdown",
      "metadata": {
        "id": "view-in-github",
        "colab_type": "text"
      },
      "source": [
        "<a href=\"https://colab.research.google.com/github/coding-geek1711/DeepLearningBabySteps/blob/master/DeepLearningMnistDataset.ipynb\" target=\"_parent\"><img src=\"https://colab.research.google.com/assets/colab-badge.svg\" alt=\"Open In Colab\"/></a>"
      ]
    },
    {
      "cell_type": "code",
      "metadata": {
        "id": "lYCvCDCJjsR_",
        "colab_type": "code",
        "colab": {
          "base_uri": "https://localhost:8080/",
          "height": 62
        },
        "outputId": "51366951-6794-4a31-f89a-556fa0b5b33b"
      },
      "source": [
        "import tensorflow as tf\n"
      ],
      "execution_count": 1,
      "outputs": [
        {
          "output_type": "display_data",
          "data": {
            "text/html": [
              "<p style=\"color: red;\">\n",
              "The default version of TensorFlow in Colab will switch to TensorFlow 2.x on the 27th of March, 2020.<br>\n",
              "We recommend you <a href=\"https://www.tensorflow.org/guide/migrate\" target=\"_blank\">upgrade</a> now\n",
              "or ensure your notebook will continue to use TensorFlow 1.x via the <code>%tensorflow_version 1.x</code> magic:\n",
              "<a href=\"https://colab.research.google.com/notebooks/tensorflow_version.ipynb\" target=\"_blank\">more info</a>.</p>\n"
            ],
            "text/plain": [
              "<IPython.core.display.HTML object>"
            ]
          },
          "metadata": {
            "tags": []
          }
        }
      ]
    },
    {
      "cell_type": "code",
      "metadata": {
        "id": "7tyaK6UZ3A8-",
        "colab_type": "code",
        "colab": {
          "base_uri": "https://localhost:8080/",
          "height": 34
        },
        "outputId": "cbe91af0-fd56-4432-c115-468f9fa1c401"
      },
      "source": [
        "tf.__version__"
      ],
      "execution_count": 2,
      "outputs": [
        {
          "output_type": "execute_result",
          "data": {
            "text/plain": [
              "'1.15.0'"
            ]
          },
          "metadata": {
            "tags": []
          },
          "execution_count": 2
        }
      ]
    },
    {
      "cell_type": "markdown",
      "metadata": {
        "id": "v2aA6d6h3Rsb",
        "colab_type": "text"
      },
      "source": [
        "### MNIST DATASET IS THE HELLO WORLD OF DEEP LEARNING\n",
        "Mnist dataset contains 28 x 28 images of handwritten digits from 0 to 9"
      ]
    },
    {
      "cell_type": "code",
      "metadata": {
        "id": "8xqLGq2H3CsD",
        "colab_type": "code",
        "colab": {}
      },
      "source": [
        "mnist = tf.keras.datasets.mnist"
      ],
      "execution_count": 0,
      "outputs": []
    },
    {
      "cell_type": "code",
      "metadata": {
        "id": "FkdBw0Mo3L5J",
        "colab_type": "code",
        "colab": {}
      },
      "source": [
        "(X_train, y_train), (X_test, y_test) = mnist.load_data()\n",
        "X_train = tf.keras.utils.normalize(X_train, axis = 1)\n",
        "\n",
        "X_test = tf.keras.utils.normalize(X_test, axis = 1)       ## normalization is done to convert data between 0 and 1 to help net train faster"
      ],
      "execution_count": 0,
      "outputs": []
    },
    {
      "cell_type": "code",
      "metadata": {
        "id": "RO1Wa4Bh3yHF",
        "colab_type": "code",
        "colab": {
          "base_uri": "https://localhost:8080/",
          "height": 265
        },
        "outputId": "e7f906b5-19b7-4d86-c768-1497c48ce25b"
      },
      "source": [
        "import matplotlib.pyplot as plt\n",
        "plt.imshow(X_train[0], cmap = plt.cm.binary)\n",
        "plt.show()"
      ],
      "execution_count": 12,
      "outputs": [
        {
          "output_type": "display_data",
          "data": {
            "image/png": "[encoded data removed]",
            "text/plain": [
              "<Figure size 432x288 with 1 Axes>"
            ]
          },
          "metadata": {
            "tags": []
          }
        }
      ]
    },
    {
      "cell_type": "markdown",
      "metadata": {
        "id": "YUj8HT3C41j5",
        "colab_type": "text"
      },
      "source": [
        "### We build our Neural Net now"
      ]
    },
    {
      "cell_type": "code",
      "metadata": {
        "id": "1hFZfPgd4CGt",
        "colab_type": "code",
        "colab": {}
      },
      "source": [
        "model = tf.keras.models.Sequential()\n",
        "# Input Layer\n",
        "model.add(tf.keras.layers.Flatten())\n",
        "model.add(tf.keras.layers.Dense(128, activation='relu'))\n",
        "model.add(tf.keras.layers.Dense(128, activation='relu'))\n",
        "model.add(tf.keras.layers.Dense(10, activation='softmax'))"
      ],
      "execution_count": 0,
      "outputs": []
    },
    {
      "cell_type": "code",
      "metadata": {
        "id": "rUqYM9_w5oXM",
        "colab_type": "code",
        "colab": {}
      },
      "source": [
        "model.compile(optimizer = 'adam', \n",
        "              loss = 'sparse_categorical_crossentropy',\n",
        "              metrics = ['accuracy'] \n",
        "              )"
      ],
      "execution_count": 0,
      "outputs": []
    },
    {
      "cell_type": "code",
      "metadata": {
        "id": "j87Onols6I_6",
        "colab_type": "code",
        "colab": {
          "base_uri": "https://localhost:8080/",
          "height": 238
        },
        "outputId": "942570d6-a413-4e96-e55f-dfcf914a0317"
      },
      "source": [
        "model.fit(X_train, y_train, validation_split = 0.1,epochs=5)"
      ],
      "execution_count": 16,
      "outputs": [
        {
          "output_type": "stream",
          "text": [
            "Train on 54000 samples, validate on 6000 samples\n",
            "Epoch 1/5\n",
            "54000/54000 [==============================] - 4s 81us/sample - loss: 0.0324 - acc: 0.9891 - val_loss: 0.0292 - val_acc: 0.9898\n",
            "Epoch 2/5\n",
            "54000/54000 [==============================] - 4s 81us/sample - loss: 0.0254 - acc: 0.9914 - val_loss: 0.0398 - val_acc: 0.9870\n",
            "Epoch 3/5\n",
            "54000/54000 [==============================] - 4s 81us/sample - loss: 0.0215 - acc: 0.9930 - val_loss: 0.0397 - val_acc: 0.9868\n",
            "Epoch 4/5\n",
            "54000/54000 [==============================] - 4s 80us/sample - loss: 0.0183 - acc: 0.9938 - val_loss: 0.0432 - val_acc: 0.9853\n",
            "Epoch 5/5\n",
            "54000/54000 [==============================] - 4s 80us/sample - loss: 0.0140 - acc: 0.9951 - val_loss: 0.0522 - val_acc: 0.9842\n"
          ],
          "name": "stdout"
        },
        {
          "output_type": "execute_result",
          "data": {
            "text/plain": [
              "<tensorflow.python.keras.callbacks.History at 0x7f5cc7358320>"
            ]
          },
          "metadata": {
            "tags": []
          },
          "execution_count": 16
        }
      ]
    },
    {
      "cell_type": "code",
      "metadata": {
        "id": "zyVYbZEj6S_S",
        "colab_type": "code",
        "colab": {
          "base_uri": "https://localhost:8080/",
          "height": 34
        },
        "outputId": "9c2a3e29-ba56-4303-c6e3-bb729e80f671"
      },
      "source": [
        "val_loss, val_acc = model.evaluate(X_test, y_test)"
      ],
      "execution_count": 17,
      "outputs": [
        {
          "output_type": "stream",
          "text": [
            "10000/10000 [==============================] - 0s 33us/sample - loss: 0.1100 - acc: 0.9725\n"
          ],
          "name": "stdout"
        }
      ]
    },
    {
      "cell_type": "code",
      "metadata": {
        "id": "QG9ohBtc6tAx",
        "colab_type": "code",
        "colab": {
          "base_uri": "https://localhost:8080/",
          "height": 154
        },
        "outputId": "2c11843e-649c-4677-9afd-dae0e1e7e940"
      },
      "source": [
        "model.save('model_1.model')\n",
        "new_model = tf.keras.models.load_model('model_1.model')"
      ],
      "execution_count": 18,
      "outputs": [
        {
          "output_type": "stream",
          "text": [
            "WARNING:tensorflow:From /tensorflow-1.15.0/python3.6/tensorflow_core/python/ops/init_ops.py:97: calling GlorotUniform.__init__ (from tensorflow.python.ops.init_ops) with dtype is deprecated and will be removed in a future version.\n",
            "Instructions for updating:\n",
            "Call initializer instance with the dtype argument instead of passing it to the constructor\n",
            "WARNING:tensorflow:From /tensorflow-1.15.0/python3.6/tensorflow_core/python/ops/init_ops.py:97: calling Zeros.__init__ (from tensorflow.python.ops.init_ops) with dtype is deprecated and will be removed in a future version.\n",
            "Instructions for updating:\n",
            "Call initializer instance with the dtype argument instead of passing it to the constructor\n",
            "WARNING:tensorflow:Sequential models without an `input_shape` passed to the first layer cannot reload their optimizer state. As a result, your model isstarting with a freshly initialized optimizer.\n"
          ],
          "name": "stdout"
        }
      ]
    },
    {
      "cell_type": "code",
      "metadata": {
        "id": "iyCK-Hfb7E6u",
        "colab_type": "code",
        "colab": {}
      },
      "source": [
        "predictions = new_model.predict(X_test)"
      ],
      "execution_count": 0,
      "outputs": []
    },
    {
      "cell_type": "code",
      "metadata": {
        "id": "zCE25vOh7RQw",
        "colab_type": "code",
        "colab": {
          "base_uri": "https://localhost:8080/",
          "height": 235
        },
        "outputId": "5cf1c230-cad8-4646-cf73-57d2563e022a"
      },
      "source": [
        "print(predictions)"
      ],
      "execution_count": 20,
      "outputs": [
        {
          "output_type": "stream",
          "text": [
            "[[2.18532806e-13 1.69241899e-12 1.37889110e-11 ... 9.99999881e-01\n",
            "  6.24399837e-12 2.23716046e-09]\n",
            " [6.04567557e-13 9.29985561e-07 9.99999046e-01 ... 2.93624743e-11\n",
            "  8.33764391e-10 1.71793397e-21]\n",
            " [1.96291750e-11 9.99998927e-01 3.66637010e-09 ... 8.90343188e-07\n",
            "  2.67055071e-07 2.74291926e-11]\n",
            " ...\n",
            " [1.61678600e-15 2.24409770e-12 3.47820324e-14 ... 1.06086461e-07\n",
            "  1.53824542e-09 1.74045181e-06]\n",
            " [1.14748146e-15 4.14127560e-18 2.55497532e-21 ... 6.41128047e-15\n",
            "  1.29951205e-09 6.08160570e-20]\n",
            " [1.56291606e-13 1.10815045e-10 3.75678932e-11 ... 2.12198287e-13\n",
            "  1.06302327e-08 1.98133090e-16]]\n"
          ],
          "name": "stdout"
        }
      ]
    },
    {
      "cell_type": "code",
      "metadata": {
        "id": "-mul1L2O7T42",
        "colab_type": "code",
        "colab": {
          "base_uri": "https://localhost:8080/",
          "height": 34
        },
        "outputId": "6f672341-dd83-461c-d665-4d2b6b46c7b9"
      },
      "source": [
        "import numpy as np\n",
        "print(np.argmax(predictions[0]))"
      ],
      "execution_count": 21,
      "outputs": [
        {
          "output_type": "stream",
          "text": [
            "7\n"
          ],
          "name": "stdout"
        }
      ]
    },
    {
      "cell_type": "code",
      "metadata": {
        "id": "YQwsrw5-7bvL",
        "colab_type": "code",
        "colab": {
          "base_uri": "https://localhost:8080/",
          "height": 265
        },
        "outputId": "827ade6f-9e61-4083-8359-2ba712a8b909"
      },
      "source": [
        "plt.imshow(X_test[0])\n",
        "plt.show()"
      ],
      "execution_count": 22,
      "outputs": [
        {
          "output_type": "display_data",
          "data": {
            "image/png": "[encoded data removed]",
            "text/plain": [
              "<Figure size 432x288 with 1 Axes>"
            ]
          },
          "metadata": {
            "tags": []
          }
        }
      ]
    },
    {
      "cell_type": "code",
      "metadata": {
        "id": "bLGg-s0p7gAJ",
        "colab_type": "code",
        "colab": {}
      },
      "source": [
        ""
      ],
      "execution_count": 0,
      "outputs": []
    }
  ]
}